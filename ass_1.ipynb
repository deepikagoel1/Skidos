{
 "cells": [
  {
   "cell_type": "code",
   "execution_count": 66,
   "metadata": {},
   "outputs": [],
   "source": [
    "import pandas as pd\n",
    "import numpy as np\n",
    "import matplotlib.pyplot as plt\n",
    "import seaborn as sns"
   ]
  },
  {
   "cell_type": "code",
   "execution_count": 67,
   "metadata": {},
   "outputs": [
    {
     "data": {
      "text/html": [
       "<div>\n",
       "<style scoped>\n",
       "    .dataframe tbody tr th:only-of-type {\n",
       "        vertical-align: middle;\n",
       "    }\n",
       "\n",
       "    .dataframe tbody tr th {\n",
       "        vertical-align: top;\n",
       "    }\n",
       "\n",
       "    .dataframe thead th {\n",
       "        text-align: right;\n",
       "    }\n",
       "</style>\n",
       "<table border=\"1\" class=\"dataframe\">\n",
       "  <thead>\n",
       "    <tr style=\"text-align: right;\">\n",
       "      <th></th>\n",
       "      <th>Event Time</th>\n",
       "      <th>Keywords</th>\n",
       "      <th>Campaign</th>\n",
       "      <th>State</th>\n",
       "      <th>Postal Code</th>\n",
       "      <th>City</th>\n",
       "      <th>Platform</th>\n",
       "      <th>InorganicSource</th>\n",
       "      <th>Country</th>\n",
       "      <th>Name</th>\n",
       "      <th>CreateDate</th>\n",
       "      <th>IdUser</th>\n",
       "    </tr>\n",
       "  </thead>\n",
       "  <tbody>\n",
       "    <tr>\n",
       "      <th>0</th>\n",
       "      <td>26/08/18</td>\n",
       "      <td>NaN</td>\n",
       "      <td>None</td>\n",
       "      <td>MS</td>\n",
       "      <td>39564</td>\n",
       "      <td>Ocean Springs</td>\n",
       "      <td>ios</td>\n",
       "      <td>NaN</td>\n",
       "      <td>USA</td>\n",
       "      <td>Flying Superstars</td>\n",
       "      <td>26/08/18</td>\n",
       "      <td>NaN</td>\n",
       "    </tr>\n",
       "    <tr>\n",
       "      <th>1</th>\n",
       "      <td>31/08/18</td>\n",
       "      <td>NaN</td>\n",
       "      <td>Welcome email</td>\n",
       "      <td>WA</td>\n",
       "      <td>98642</td>\n",
       "      <td>Ridgefield</td>\n",
       "      <td>ios</td>\n",
       "      <td>Email</td>\n",
       "      <td>USA</td>\n",
       "      <td>Flying Superstars</td>\n",
       "      <td>31/08/18</td>\n",
       "      <td>NaN</td>\n",
       "    </tr>\n",
       "    <tr>\n",
       "      <th>2</th>\n",
       "      <td>05/04/19</td>\n",
       "      <td>NaN</td>\n",
       "      <td>Welcome email</td>\n",
       "      <td>OK</td>\n",
       "      <td>73122</td>\n",
       "      <td>Oklahoma City</td>\n",
       "      <td>ios</td>\n",
       "      <td>Email</td>\n",
       "      <td>USA</td>\n",
       "      <td>Flying Superstars</td>\n",
       "      <td>05/04/19</td>\n",
       "      <td>NaN</td>\n",
       "    </tr>\n",
       "    <tr>\n",
       "      <th>3</th>\n",
       "      <td>20/10/18</td>\n",
       "      <td>NaN</td>\n",
       "      <td>None</td>\n",
       "      <td>CA</td>\n",
       "      <td>91214</td>\n",
       "      <td>La Crescenta</td>\n",
       "      <td>ios</td>\n",
       "      <td>Landing Page</td>\n",
       "      <td>USA</td>\n",
       "      <td>Hop Star</td>\n",
       "      <td>20/10/18</td>\n",
       "      <td>172324.0</td>\n",
       "    </tr>\n",
       "    <tr>\n",
       "      <th>4</th>\n",
       "      <td>03/11/18</td>\n",
       "      <td>NaN</td>\n",
       "      <td>None</td>\n",
       "      <td>TX</td>\n",
       "      <td>79413</td>\n",
       "      <td>Lubbock</td>\n",
       "      <td>ios</td>\n",
       "      <td>Landing Page</td>\n",
       "      <td>USA</td>\n",
       "      <td>Hop Star</td>\n",
       "      <td>03/11/18</td>\n",
       "      <td>182725.0</td>\n",
       "    </tr>\n",
       "  </tbody>\n",
       "</table>\n",
       "</div>"
      ],
      "text/plain": [
       "  Event Time Keywords       Campaign State Postal Code           City  \\\n",
       "0   26/08/18      NaN           None    MS       39564  Ocean Springs   \n",
       "1   31/08/18      NaN  Welcome email    WA       98642     Ridgefield   \n",
       "2   05/04/19      NaN  Welcome email    OK       73122  Oklahoma City   \n",
       "3   20/10/18      NaN           None    CA       91214   La Crescenta   \n",
       "4   03/11/18      NaN           None    TX       79413        Lubbock   \n",
       "\n",
       "  Platform InorganicSource Country               Name CreateDate    IdUser  \n",
       "0      ios             NaN     USA  Flying Superstars   26/08/18       NaN  \n",
       "1      ios           Email     USA  Flying Superstars   31/08/18       NaN  \n",
       "2      ios           Email     USA  Flying Superstars   05/04/19       NaN  \n",
       "3      ios    Landing Page     USA           Hop Star   20/10/18  172324.0  \n",
       "4      ios    Landing Page     USA           Hop Star   03/11/18  182725.0  "
      ]
     },
     "execution_count": 67,
     "metadata": {},
     "output_type": "execute_result"
    }
   ],
   "source": [
    "df = pd.read_csv(\"data_quality_sample_data.csv\") #Load dataset\n",
    "df.head()"
   ]
  },
  {
   "cell_type": "code",
   "execution_count": 68,
   "metadata": {},
   "outputs": [
    {
     "name": "stdout",
     "output_type": "stream",
     "text": [
      "<class 'pandas.core.frame.DataFrame'>\n",
      "RangeIndex: 107321 entries, 0 to 107320\n",
      "Data columns (total 12 columns):\n",
      " #   Column           Non-Null Count   Dtype  \n",
      "---  ------           --------------   -----  \n",
      " 0   Event Time       107321 non-null  object \n",
      " 1   Keywords         55373 non-null   object \n",
      " 2   Campaign         100892 non-null  object \n",
      " 3   State            107299 non-null  object \n",
      " 4   Postal Code      107321 non-null  object \n",
      " 5   City             107321 non-null  object \n",
      " 6   Platform         107321 non-null  object \n",
      " 7   InorganicSource  92290 non-null   object \n",
      " 8   Country          107316 non-null  object \n",
      " 9   Name             107321 non-null  object \n",
      " 10  CreateDate       107321 non-null  object \n",
      " 11  IdUser           84024 non-null   float64\n",
      "dtypes: float64(1), object(11)\n",
      "memory usage: 9.8+ MB\n"
     ]
    }
   ],
   "source": [
    "df.info() #Getting information regarding each column from a dataframe"
   ]
  },
  {
   "cell_type": "code",
   "execution_count": 70,
   "metadata": {},
   "outputs": [
    {
     "data": {
      "text/html": [
       "<div>\n",
       "<style scoped>\n",
       "    .dataframe tbody tr th:only-of-type {\n",
       "        vertical-align: middle;\n",
       "    }\n",
       "\n",
       "    .dataframe tbody tr th {\n",
       "        vertical-align: top;\n",
       "    }\n",
       "\n",
       "    .dataframe thead th {\n",
       "        text-align: right;\n",
       "    }\n",
       "</style>\n",
       "<table border=\"1\" class=\"dataframe\">\n",
       "  <thead>\n",
       "    <tr style=\"text-align: right;\">\n",
       "      <th></th>\n",
       "      <th>IdUser</th>\n",
       "    </tr>\n",
       "  </thead>\n",
       "  <tbody>\n",
       "    <tr>\n",
       "      <th>count</th>\n",
       "      <td>8.402400e+04</td>\n",
       "    </tr>\n",
       "    <tr>\n",
       "      <th>mean</th>\n",
       "      <td>6.137290e+05</td>\n",
       "    </tr>\n",
       "    <tr>\n",
       "      <th>std</th>\n",
       "      <td>2.812359e+05</td>\n",
       "    </tr>\n",
       "    <tr>\n",
       "      <th>min</th>\n",
       "      <td>6.762000e+03</td>\n",
       "    </tr>\n",
       "    <tr>\n",
       "      <th>25%</th>\n",
       "      <td>3.869720e+05</td>\n",
       "    </tr>\n",
       "    <tr>\n",
       "      <th>50%</th>\n",
       "      <td>6.092690e+05</td>\n",
       "    </tr>\n",
       "    <tr>\n",
       "      <th>75%</th>\n",
       "      <td>8.507470e+05</td>\n",
       "    </tr>\n",
       "    <tr>\n",
       "      <th>max</th>\n",
       "      <td>1.404159e+06</td>\n",
       "    </tr>\n",
       "  </tbody>\n",
       "</table>\n",
       "</div>"
      ],
      "text/plain": [
       "             IdUser\n",
       "count  8.402400e+04\n",
       "mean   6.137290e+05\n",
       "std    2.812359e+05\n",
       "min    6.762000e+03\n",
       "25%    3.869720e+05\n",
       "50%    6.092690e+05\n",
       "75%    8.507470e+05\n",
       "max    1.404159e+06"
      ]
     },
     "execution_count": 70,
     "metadata": {},
     "output_type": "execute_result"
    }
   ],
   "source": [
    "df.describe() #getting statistical information"
   ]
  },
  {
   "cell_type": "code",
   "execution_count": 71,
   "metadata": {},
   "outputs": [
    {
     "data": {
      "text/plain": [
       "Event Time             0\n",
       "Keywords           51948\n",
       "Campaign            6429\n",
       "State                 22\n",
       "Postal Code            0\n",
       "City                   0\n",
       "Platform               0\n",
       "InorganicSource    15031\n",
       "Country                5\n",
       "Name                   0\n",
       "CreateDate             0\n",
       "IdUser             23297\n",
       "dtype: int64"
      ]
     },
     "execution_count": 71,
     "metadata": {},
     "output_type": "execute_result"
    }
   ],
   "source": [
    "df.isnull().sum() #checking null values in each column"
   ]
  },
  {
   "cell_type": "code",
   "execution_count": 72,
   "metadata": {},
   "outputs": [
    {
     "data": {
      "text/plain": [
       "(107321, 12)"
      ]
     },
     "execution_count": 72,
     "metadata": {},
     "output_type": "execute_result"
    }
   ],
   "source": [
    "df.shape"
   ]
  },
  {
   "cell_type": "code",
   "execution_count": 73,
   "metadata": {},
   "outputs": [
    {
     "name": "stdout",
     "output_type": "stream",
     "text": [
      "[0.0, 48.404319751027295, 5.9904398952674685, 0.020499249913809973, 0.0, 0.0, 0.0, 14.005646611567167, 0.0046589204349568114, 0.0, 0.0, 21.70777387463777]\n"
     ]
    }
   ],
   "source": [
    "#Calculating the percentage of nll values for each column\n",
    "percent = []\n",
    "for i in df.columns:\n",
    "    key_perc = (df[i].isnull().sum() * 100)/df.shape[0]\n",
    "    percent.append(key_perc)\n",
    "print(percent)"
   ]
  },
  {
   "cell_type": "code",
   "execution_count": 81,
   "metadata": {},
   "outputs": [],
   "source": [
    "#Since all the columns have string values so we can't substitute with the mean values.\n",
    "df.dropna(subset=[\"Keywords\", \"IdUser\", \"InorganicSource\", \"Campaign\", \"State\", \"Country\"], axis=0, inplace = True)"
   ]
  },
  {
   "cell_type": "code",
   "execution_count": 82,
   "metadata": {},
   "outputs": [
    {
     "data": {
      "text/plain": [
       "Event Time         0\n",
       "Keywords           0\n",
       "Campaign           0\n",
       "State              0\n",
       "Postal Code        0\n",
       "City               0\n",
       "Platform           0\n",
       "InorganicSource    0\n",
       "Country            0\n",
       "Name               0\n",
       "CreateDate         0\n",
       "IdUser             0\n",
       "dtype: int64"
      ]
     },
     "execution_count": 82,
     "metadata": {},
     "output_type": "execute_result"
    }
   ],
   "source": [
    "df.isnull().sum()"
   ]
  },
  {
   "cell_type": "code",
   "execution_count": 83,
   "metadata": {},
   "outputs": [
    {
     "data": {
      "text/plain": [
       "(36986, 12)"
      ]
     },
     "execution_count": 83,
     "metadata": {},
     "output_type": "execute_result"
    }
   ],
   "source": [
    "#After removing the missing values, th\n",
    "df.shape"
   ]
  },
  {
   "cell_type": "code",
   "execution_count": 93,
   "metadata": {},
   "outputs": [
    {
     "name": "stdout",
     "output_type": "stream",
     "text": [
      "\n",
      "Column Name: Event Time, counts: 23/03/20    193\n",
      "26/03/20    192\n",
      "25/03/20    191\n",
      "01/04/20    173\n",
      "24/03/20    169\n",
      "           ... \n",
      "07/11/20      1\n",
      "13/01/21      1\n",
      "11/11/20      1\n",
      "10/11/20      1\n",
      "03/11/20      1\n",
      "Name: Event Time, Length: 812, dtype: int64\n",
      "\n",
      "\n",
      "Column Name: Keywords, counts: learning games for kids                             2750\n",
      "math games for kids                                 2412\n",
      "fun math games                                      2044\n",
      "maths games                                         1510\n",
      "math games for 3rd grade                            1495\n",
      "                                                    ... \n",
      "3rd grade math games multiplication and division       1\n",
      "st math                                                1\n",
      "maths rockx                                            1\n",
      "math game for kids                                     1\n",
      "adapted mind                                           1\n",
      "Name: Keywords, Length: 451, dtype: int64\n",
      "\n",
      "\n",
      "Column Name: Campaign, counts: US- Learning based keywords campaign    5713\n",
      "New_US: Pepi Bath                       1825\n",
      "US - Competitor Keywords Campaign       1653\n",
      "US KW: 1st-5th Grade                    1609\n",
      "US learning keywords                    1333\n",
      "                                        ... \n",
      "New_Ireland BR                             1\n",
      "CA_Bike Racing_Competitor 1+               1\n",
      "New_HK BR                                  1\n",
      "SKIDOS_USA_Town_Performance Learning       1\n",
      "HK BR                                      1\n",
      "Name: Campaign, Length: 156, dtype: int64\n",
      "\n",
      "\n",
      "Column Name: State, counts: CA     3353\n",
      "TX     2288\n",
      "NY     1840\n",
      "FL     1681\n",
      "IL     1017\n",
      "       ... \n",
      "HUC       1\n",
      "MR        1\n",
      "42        1\n",
      "BJ        1\n",
      "ZMB       1\n",
      "Name: State, Length: 572, dtype: int64\n",
      "\n",
      "\n",
      "Column Name: Postal Code, counts: None      318\n",
      "2300       36\n",
      "2770       34\n",
      "2100       30\n",
      "2730       29\n",
      "         ... \n",
      "6275        1\n",
      "903 60      1\n",
      "63901       1\n",
      "3827        1\n",
      "80302       1\n",
      "Name: Postal Code, Length: 17243, dtype: int64\n",
      "\n",
      "\n",
      "Column Name: City, counts: Chicago          303\n",
      "Brooklyn         270\n",
      "Houston          262\n",
      "New York         252\n",
      "Los Angeles      228\n",
      "                ... \n",
      "Ferryhill          1\n",
      "Templepatrick      1\n",
      "Schaffhausen       1\n",
      "Virserum           1\n",
      "Zvezdara           1\n",
      "Name: City, Length: 9240, dtype: int64\n",
      "\n",
      "\n",
      "Column Name: Platform, counts: ios    36986\n",
      "Name: Platform, dtype: int64\n",
      "\n",
      "\n",
      "Column Name: InorganicSource, counts: Apple Search Ads    36986\n",
      "Name: InorganicSource, dtype: int64\n",
      "\n",
      "\n",
      "Column Name: Country, counts: USA             25089\n",
      "UK               3175\n",
      "Australia        1679\n",
      "Denmark          1650\n",
      "Sweden           1407\n",
      "Norway            959\n",
      "Other             902\n",
      "Canada            896\n",
      "India             362\n",
      "Spain             300\n",
      "UAE               155\n",
      "South Africa       96\n",
      "Saudi Arabia       46\n",
      "Kuwait             31\n",
      "Qatar              24\n",
      "Ireland            21\n",
      "Philippines        20\n",
      "Singapore          19\n",
      "France             19\n",
      "Switzerland        17\n",
      "Germany            17\n",
      "Brazil             16\n",
      "Netherlands        14\n",
      "Greece             11\n",
      "Serbia             10\n",
      "Italy               8\n",
      "Malaysia            7\n",
      "Hong Kong           7\n",
      "New Zealand         6\n",
      "Ukraine             6\n",
      "Belgium             5\n",
      "Poland              4\n",
      "Croatia             3\n",
      "Russia              2\n",
      "Portugal            2\n",
      "Austria             1\n",
      "Name: Country, dtype: int64\n",
      "\n",
      "\n",
      "Column Name: Name, counts: Bike Racing      19086\n",
      "Skiers            4516\n",
      "Street Soccer     4205\n",
      "Bath              3710\n",
      "Brainy City       2498\n",
      "Race Cars         1681\n",
      "Doctor             727\n",
      "Surf Fun           294\n",
      "Color Friends      123\n",
      "Runners             57\n",
      "Super Store         55\n",
      "Milk Hunt           16\n",
      "Town                12\n",
      "Rabbit Rescue        6\n",
      "Name: Name, dtype: int64\n",
      "\n",
      "\n",
      "Column Name: CreateDate, counts: 23/03/20    193\n",
      "26/03/20    192\n",
      "25/03/20    191\n",
      "01/04/20    173\n",
      "24/03/20    169\n",
      "           ... \n",
      "07/11/20      1\n",
      "13/01/21      1\n",
      "11/11/20      1\n",
      "10/11/20      1\n",
      "03/11/20      1\n",
      "Name: CreateDate, Length: 812, dtype: int64\n",
      "\n",
      "\n",
      "Column Name: IdUser, counts: 586286.0     3\n",
      "921437.0     3\n",
      "194581.0     3\n",
      "865195.0     3\n",
      "846942.0     3\n",
      "            ..\n",
      "283735.0     1\n",
      "172668.0     1\n",
      "895153.0     1\n",
      "1026228.0    1\n",
      "720896.0     1\n",
      "Name: IdUser, Length: 36228, dtype: int64\n",
      "\n"
     ]
    }
   ],
   "source": [
    "#Checking the frequency of items in each column of a dataframe.\n",
    "for i in df.columns:\n",
    "    c = df[i].value_counts()\n",
    "    print(f\"\\nColumn Name: {i}, counts: {c}\\n\")"
   ]
  },
  {
   "cell_type": "code",
   "execution_count": null,
   "metadata": {},
   "outputs": [],
   "source": []
  }
 ],
 "metadata": {
  "kernelspec": {
   "display_name": "Python 3",
   "language": "python",
   "name": "python3"
  },
  "language_info": {
   "codemirror_mode": {
    "name": "ipython",
    "version": 3
   },
   "file_extension": ".py",
   "mimetype": "text/x-python",
   "name": "python",
   "nbconvert_exporter": "python",
   "pygments_lexer": "ipython3",
   "version": "3.8.5"
  }
 },
 "nbformat": 4,
 "nbformat_minor": 4
}
